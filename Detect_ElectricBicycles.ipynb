{
  "nbformat": 4,
  "nbformat_minor": 0,
  "metadata": {
    "colab": {
      "name": "Detect_ElectricBicycles.ipynb",
      "provenance": [],
      "authorship_tag": "ABX9TyOhVeuIwGr8RfGX/WypYWC+",
      "include_colab_link": true
    },
    "kernelspec": {
      "name": "python3",
      "display_name": "Python 3"
    }
  },
  "cells": [
    {
      "cell_type": "markdown",
      "metadata": {
        "id": "view-in-github",
        "colab_type": "text"
      },
      "source": [
        "<a href=\"https://colab.research.google.com/github/Samuel-wei/yolov5/blob/master/Detect_ElectricBicycles.ipynb\" target=\"_parent\"><img src=\"https://colab.research.google.com/assets/colab-badge.svg\" alt=\"Open In Colab\"/></a>"
      ]
    },
    {
      "cell_type": "markdown",
      "metadata": {
        "id": "57dMmb7DjYMN",
        "colab_type": "text"
      },
      "source": [
        "# Detect_ElectricBicycles"
      ]
    },
    {
      "cell_type": "markdown",
      "metadata": {
        "id": "pOTrfHPYkEui",
        "colab_type": "text"
      },
      "source": [
        "Git the code"
      ]
    },
    {
      "cell_type": "code",
      "metadata": {
        "id": "cwXFDVAqjXje",
        "colab_type": "code",
        "colab": {}
      },
      "source": [
        "!cd content\n",
        "!git clone https://github.com/Samuel-wei/yolov5.git"
      ],
      "execution_count": null,
      "outputs": []
    },
    {
      "cell_type": "code",
      "metadata": {
        "id": "OAam6jKrkzt1",
        "colab_type": "code",
        "colab": {
          "base_uri": "https://localhost:8080/",
          "height": 34
        },
        "outputId": "355bafdd-7587-4209-b101-2f0b208559e8"
      },
      "source": [
        "!pwd"
      ],
      "execution_count": 5,
      "outputs": [
        {
          "output_type": "stream",
          "text": [
            "/content\n"
          ],
          "name": "stdout"
        }
      ]
    },
    {
      "cell_type": "markdown",
      "metadata": {
        "id": "6u4On71Uji4B",
        "colab_type": "text"
      },
      "source": [
        "## Requirements\n",
        "Python3.8 or later with all Requirements.txt dependcies installed, including torch>=1.6 To install run:"
      ]
    },
    {
      "cell_type": "code",
      "metadata": {
        "id": "_Aii1O5UlLJA",
        "colab_type": "code",
        "colab": {
          "base_uri": "https://localhost:8080/",
          "height": 34
        },
        "outputId": "d5eb5393-1939-44fa-baa1-afdd84cd69d5"
      },
      "source": [
        "!pwd"
      ],
      "execution_count": 12,
      "outputs": [
        {
          "output_type": "stream",
          "text": [
            "/content\n"
          ],
          "name": "stdout"
        }
      ]
    },
    {
      "cell_type": "code",
      "metadata": {
        "id": "eepxvopgiZvh",
        "colab_type": "code",
        "colab": {}
      },
      "source": [
        "!pip install -r /content/yolov5/requirements.txt"
      ],
      "execution_count": null,
      "outputs": []
    },
    {
      "cell_type": "code",
      "metadata": {
        "id": "r7TW-l5IlzAG",
        "colab_type": "code",
        "colab": {}
      },
      "source": [
        "!cd /content/yolov5/ #fail into /content/yolov5"
      ],
      "execution_count": 18,
      "outputs": []
    },
    {
      "cell_type": "code",
      "metadata": {
        "id": "fhzec2oyl47X",
        "colab_type": "code",
        "colab": {
          "base_uri": "https://localhost:8080/",
          "height": 34
        },
        "outputId": "3f973d6d-5ead-40ed-b1df-f02eb3945b27"
      },
      "source": [
        "!pwd"
      ],
      "execution_count": 19,
      "outputs": [
        {
          "output_type": "stream",
          "text": [
            "/content\n"
          ],
          "name": "stdout"
        }
      ]
    },
    {
      "cell_type": "code",
      "metadata": {
        "id": "8Fmh_QTal7v7",
        "colab_type": "code",
        "colab": {}
      },
      "source": [
        ""
      ],
      "execution_count": null,
      "outputs": []
    }
  ]
}